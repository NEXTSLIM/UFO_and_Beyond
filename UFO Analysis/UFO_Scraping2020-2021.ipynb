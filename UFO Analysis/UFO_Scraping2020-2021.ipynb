{
 "cells": [
  {
   "cell_type": "code",
   "execution_count": 1,
   "metadata": {},
   "outputs": [],
   "source": [
    "from splinter import Browser\n",
    "from bs4 import BeautifulSoup\n",
    "from webdriver_manager.chrome import ChromeDriverManager\n",
    "import pandas as pd\n",
    "import requests"
   ]
  },
  {
   "cell_type": "code",
   "execution_count": 2,
   "metadata": {},
   "outputs": [
    {
     "name": "stderr",
     "output_type": "stream",
     "text": [
      "\n",
      "\n",
      "====== WebDriver manager ======\n",
      "Current google-chrome version is 90.0.4430\n",
      "Get LATEST driver version for 90.0.4430\n",
      "Get LATEST driver version for 90.0.4430\n",
      "Trying to download new driver from https://chromedriver.storage.googleapis.com/90.0.4430.24/chromedriver_win32.zip\n",
      "Driver has been saved in cache [C:\\Users\\clinn\\.wdm\\drivers\\chromedriver\\win32\\90.0.4430.24]\n"
     ]
    }
   ],
   "source": [
    "executable_path = {'executable_path': ChromeDriverManager().install()}\n",
    "browser = Browser('chrome', **executable_path, headless=False)"
   ]
  },
  {
   "cell_type": "code",
   "execution_count": 3,
   "metadata": {},
   "outputs": [],
   "source": [
    "url = \"http://www.nuforc.org/webreports/ndxevent.html\"\n",
    "browser.visit(url)"
   ]
  },
  {
   "cell_type": "code",
   "execution_count": 4,
   "metadata": {},
   "outputs": [
    {
     "name": "stdout",
     "output_type": "stream",
     "text": [
      "<Response [200]>\n"
     ]
    }
   ],
   "source": [
    "response = requests.get(url)\n",
    "\n",
    "print(response) # check if url is connected"
   ]
  },
  {
   "cell_type": "code",
   "execution_count": 5,
   "metadata": {},
   "outputs": [],
   "source": [
    "soup = BeautifulSoup(response.text, 'html.parser')"
   ]
  },
  {
   "cell_type": "code",
   "execution_count": 10,
   "metadata": {},
   "outputs": [
    {
     "name": "stdout",
     "output_type": "stream",
     "text": [
      "['ndxe202012.html', 'ndxe202011.html', 'ndxe202010.html', 'ndxe202009.html', 'ndxe202008.html', 'ndxe202007.html', 'ndxe202006.html', 'ndxe202005.html', 'ndxe202004.html', 'ndxe202003.html', 'ndxe202002.html', 'ndxe202001.html']\n"
     ]
    }
   ],
   "source": [
    "links = [i.get(\"href\") for i in soup.find_all('a')]\n",
    "\n",
    "# all link titles\n",
    "# first link is the home page, so it is skipped\n",
    "titles_list = links[6:18] \n",
    "\n",
    "#check final item in list is 01\\2020\n",
    "print(titles_list)"
   ]
  },
  {
   "cell_type": "code",
   "execution_count": 11,
   "metadata": {},
   "outputs": [
    {
     "name": "stdout",
     "output_type": "stream",
     "text": [
      "<class 'list'>\n",
      "<class 'list'>\n",
      "<class 'list'>\n",
      "<class 'list'>\n",
      "<class 'list'>\n",
      "<class 'list'>\n",
      "<class 'list'>\n",
      "<class 'list'>\n",
      "<class 'list'>\n",
      "<class 'list'>\n",
      "<class 'list'>\n",
      "<class 'list'>\n"
     ]
    }
   ],
   "source": [
    "temp_df = [] # create a temporary dataframe to store each table\n",
    "ufo_df = [] # then merge temporory dataframe to combinjed dataframe\n",
    "i = 0\n",
    "for i in range(len(titles_list)):\n",
    "    tables = pd.read_html(f\"http://www.nuforc.org/webreports/{titles_list[i]}\") #read table and save as list\n",
    "    print(type(tables)) # check if table is a list\n",
    "    temp_df = tables[0] # only 1 table per link\n",
    "    df = pd.DataFrame(data = temp_df) # convert list to dataframe\n",
    "\n",
    "    ufo_df.append(df) # append to combined dataframe\n",
    "\n",
    "ufo_df = pd.concat(ufo_df) # combine all dataframes through concat method"
   ]
  },
  {
   "cell_type": "code",
   "execution_count": 12,
   "metadata": {},
   "outputs": [
    {
     "data": {
      "text/plain": [
       "7213"
      ]
     },
     "execution_count": 12,
     "metadata": {},
     "output_type": "execute_result"
    }
   ],
   "source": [
    "len(ufo_df) # check to make sure all links have been saved in one dataframe"
   ]
  },
  {
   "cell_type": "code",
   "execution_count": 15,
   "metadata": {},
   "outputs": [
    {
     "data": {
      "text/html": [
       "<div>\n",
       "<style scoped>\n",
       "    .dataframe tbody tr th:only-of-type {\n",
       "        vertical-align: middle;\n",
       "    }\n",
       "\n",
       "    .dataframe tbody tr th {\n",
       "        vertical-align: top;\n",
       "    }\n",
       "\n",
       "    .dataframe thead th {\n",
       "        text-align: right;\n",
       "    }\n",
       "</style>\n",
       "<table border=\"1\" class=\"dataframe\">\n",
       "  <thead>\n",
       "    <tr style=\"text-align: right;\">\n",
       "      <th></th>\n",
       "      <th>Date / Time</th>\n",
       "      <th>City</th>\n",
       "      <th>State</th>\n",
       "      <th>Shape</th>\n",
       "      <th>Duration</th>\n",
       "      <th>Summary</th>\n",
       "      <th>Posted</th>\n",
       "    </tr>\n",
       "  </thead>\n",
       "  <tbody>\n",
       "    <tr>\n",
       "      <th>622</th>\n",
       "      <td>1/1/20 00:00</td>\n",
       "      <td>El Centro</td>\n",
       "      <td>CA</td>\n",
       "      <td>Circle</td>\n",
       "      <td>3 minutes</td>\n",
       "      <td>Red orb floats slowly changing direction then ...</td>\n",
       "      <td>1/31/20</td>\n",
       "    </tr>\n",
       "    <tr>\n",
       "      <th>623</th>\n",
       "      <td>1/1/20 00:00</td>\n",
       "      <td>Lacey</td>\n",
       "      <td>WA</td>\n",
       "      <td>Chevron</td>\n",
       "      <td>NaN</td>\n",
       "      <td>Blue light coming from craft, shot through the...</td>\n",
       "      <td>1/31/20</td>\n",
       "    </tr>\n",
       "    <tr>\n",
       "      <th>624</th>\n",
       "      <td>1/1/20 00:00</td>\n",
       "      <td>Lewiston</td>\n",
       "      <td>ME</td>\n",
       "      <td>Light</td>\n",
       "      <td>On going</td>\n",
       "      <td>It left after I came on your site to report it...</td>\n",
       "      <td>2/7/20</td>\n",
       "    </tr>\n",
       "    <tr>\n",
       "      <th>625</th>\n",
       "      <td>1/1/20</td>\n",
       "      <td>St. Petersburg</td>\n",
       "      <td>FL</td>\n",
       "      <td>Triangle</td>\n",
       "      <td>3:00</td>\n",
       "      <td>It's too bad I can't tell the full story on he...</td>\n",
       "      <td>2/7/20</td>\n",
       "    </tr>\n",
       "    <tr>\n",
       "      <th>626</th>\n",
       "      <td>1/1/20</td>\n",
       "      <td>San Antonio</td>\n",
       "      <td>TX</td>\n",
       "      <td>Oval</td>\n",
       "      <td>5 minutes</td>\n",
       "      <td>looking at fireworks at midnight we observed 1...</td>\n",
       "      <td>2/7/20</td>\n",
       "    </tr>\n",
       "  </tbody>\n",
       "</table>\n",
       "</div>"
      ],
      "text/plain": [
       "      Date / Time            City State     Shape   Duration  \\\n",
       "622  1/1/20 00:00       El Centro    CA    Circle  3 minutes   \n",
       "623  1/1/20 00:00           Lacey    WA   Chevron        NaN   \n",
       "624  1/1/20 00:00        Lewiston    ME     Light   On going   \n",
       "625        1/1/20  St. Petersburg    FL  Triangle       3:00   \n",
       "626        1/1/20     San Antonio    TX      Oval  5 minutes   \n",
       "\n",
       "                                               Summary   Posted  \n",
       "622  Red orb floats slowly changing direction then ...  1/31/20  \n",
       "623  Blue light coming from craft, shot through the...  1/31/20  \n",
       "624  It left after I came on your site to report it...   2/7/20  \n",
       "625  It's too bad I can't tell the full story on he...   2/7/20  \n",
       "626  looking at fireworks at midnight we observed 1...   2/7/20  "
      ]
     },
     "execution_count": 15,
     "metadata": {},
     "output_type": "execute_result"
    }
   ],
   "source": [
    "ufo_df.tail() # check columns are correct"
   ]
  },
  {
   "cell_type": "code",
   "execution_count": 16,
   "metadata": {},
   "outputs": [],
   "source": [
    "ufo_df.to_csv (r'2020data.csv', index = False, header=True)"
   ]
  },
  {
   "cell_type": "code",
   "execution_count": 20,
   "metadata": {
    "collapsed": true,
    "jupyter": {
     "outputs_hidden": true
    }
   },
   "outputs": [
    {
     "data": {
      "text/html": [
       "<div>\n",
       "<style scoped>\n",
       "    .dataframe tbody tr th:only-of-type {\n",
       "        vertical-align: middle;\n",
       "    }\n",
       "\n",
       "    .dataframe tbody tr th {\n",
       "        vertical-align: top;\n",
       "    }\n",
       "\n",
       "    .dataframe thead th {\n",
       "        text-align: right;\n",
       "    }\n",
       "</style>\n",
       "<table border=\"1\" class=\"dataframe\">\n",
       "  <thead>\n",
       "    <tr style=\"text-align: right;\">\n",
       "      <th></th>\n",
       "      <th>Date / Time</th>\n",
       "      <th>City</th>\n",
       "      <th>State</th>\n",
       "      <th>Shape</th>\n",
       "      <th>Duration</th>\n",
       "      <th>Summary</th>\n",
       "      <th>Posted</th>\n",
       "    </tr>\n",
       "  </thead>\n",
       "  <tbody>\n",
       "    <tr>\n",
       "      <th>0</th>\n",
       "      <td>5/19/21 20:15</td>\n",
       "      <td>Atlanta</td>\n",
       "      <td>GA</td>\n",
       "      <td>Sphere</td>\n",
       "      <td>10 min</td>\n",
       "      <td>Two black UFO over Atlanta one coming close to...</td>\n",
       "      <td>5/20/21</td>\n",
       "    </tr>\n",
       "    <tr>\n",
       "      <th>1</th>\n",
       "      <td>5/19/21 17:25</td>\n",
       "      <td>Glens Falls</td>\n",
       "      <td>NY</td>\n",
       "      <td>Triangle</td>\n",
       "      <td>20 minutes</td>\n",
       "      <td>Triangular object over the Hudson River</td>\n",
       "      <td>5/20/21</td>\n",
       "    </tr>\n",
       "    <tr>\n",
       "      <th>2</th>\n",
       "      <td>5/19/21 14:30</td>\n",
       "      <td>North Haledon</td>\n",
       "      <td>NJ</td>\n",
       "      <td>Other</td>\n",
       "      <td>20 mins</td>\n",
       "      <td>I’m no stranger to flying things but yesterday...</td>\n",
       "      <td>5/20/21</td>\n",
       "    </tr>\n",
       "    <tr>\n",
       "      <th>3</th>\n",
       "      <td>5/19/21 10:50</td>\n",
       "      <td>Clarksburg</td>\n",
       "      <td>MD</td>\n",
       "      <td>Triangle</td>\n",
       "      <td>1 min</td>\n",
       "      <td>Triangle ufo</td>\n",
       "      <td>5/20/21</td>\n",
       "    </tr>\n",
       "    <tr>\n",
       "      <th>4</th>\n",
       "      <td>5/19/21 01:00</td>\n",
       "      <td>Sharon Connecticut</td>\n",
       "      <td>CT</td>\n",
       "      <td>Light</td>\n",
       "      <td>1 hour</td>\n",
       "      <td>Strange star over northwestern connecticut</td>\n",
       "      <td>5/20/21</td>\n",
       "    </tr>\n",
       "    <tr>\n",
       "      <th>5</th>\n",
       "      <td>5/19/21 00:23</td>\n",
       "      <td>Rosamond</td>\n",
       "      <td>CA</td>\n",
       "      <td>Formation</td>\n",
       "      <td>1 minute</td>\n",
       "      <td>Large Orange cluster of orbs</td>\n",
       "      <td>5/20/21</td>\n",
       "    </tr>\n",
       "    <tr>\n",
       "      <th>6</th>\n",
       "      <td>5/18/21 00:00</td>\n",
       "      <td>Corvallis</td>\n",
       "      <td>OR</td>\n",
       "      <td>Cigar</td>\n",
       "      <td>20 seconds</td>\n",
       "      <td>Saw cigar shaped whitish/blue object with puls...</td>\n",
       "      <td>5/20/21</td>\n",
       "    </tr>\n",
       "    <tr>\n",
       "      <th>7</th>\n",
       "      <td>5/18/21 21:25</td>\n",
       "      <td>Colton</td>\n",
       "      <td>CA</td>\n",
       "      <td>Circle</td>\n",
       "      <td>15 seconds</td>\n",
       "      <td>Bright light in the sky vanishes in seconds</td>\n",
       "      <td>5/20/21</td>\n",
       "    </tr>\n",
       "    <tr>\n",
       "      <th>8</th>\n",
       "      <td>5/18/21 12:00</td>\n",
       "      <td>Lewisburg</td>\n",
       "      <td>PA</td>\n",
       "      <td>Other</td>\n",
       "      <td>All night/every night</td>\n",
       "      <td>This has been going on at my residence for the...</td>\n",
       "      <td>5/20/21</td>\n",
       "    </tr>\n",
       "    <tr>\n",
       "      <th>9</th>\n",
       "      <td>5/18/21 11:30</td>\n",
       "      <td>Paso Robles</td>\n",
       "      <td>CA</td>\n",
       "      <td>Sphere</td>\n",
       "      <td>5-10 seconds</td>\n",
       "      <td>White ball traveling at very high speed, obser...</td>\n",
       "      <td>5/20/21</td>\n",
       "    </tr>\n",
       "  </tbody>\n",
       "</table>\n",
       "</div>"
      ],
      "text/plain": [
       "     Date / Time                City State      Shape               Duration  \\\n",
       "0  5/19/21 20:15             Atlanta    GA     Sphere                 10 min   \n",
       "1  5/19/21 17:25         Glens Falls    NY   Triangle             20 minutes   \n",
       "2  5/19/21 14:30       North Haledon    NJ      Other                20 mins   \n",
       "3  5/19/21 10:50          Clarksburg    MD   Triangle                  1 min   \n",
       "4  5/19/21 01:00  Sharon Connecticut    CT      Light                 1 hour   \n",
       "5  5/19/21 00:23            Rosamond    CA  Formation               1 minute   \n",
       "6  5/18/21 00:00           Corvallis    OR      Cigar             20 seconds   \n",
       "7  5/18/21 21:25              Colton    CA     Circle             15 seconds   \n",
       "8  5/18/21 12:00           Lewisburg    PA      Other  All night/every night   \n",
       "9  5/18/21 11:30         Paso Robles    CA     Sphere           5-10 seconds   \n",
       "\n",
       "                                             Summary   Posted  \n",
       "0  Two black UFO over Atlanta one coming close to...  5/20/21  \n",
       "1            Triangular object over the Hudson River  5/20/21  \n",
       "2  I’m no stranger to flying things but yesterday...  5/20/21  \n",
       "3                                       Triangle ufo  5/20/21  \n",
       "4         Strange star over northwestern connecticut  5/20/21  \n",
       "5                       Large Orange cluster of orbs  5/20/21  \n",
       "6  Saw cigar shaped whitish/blue object with puls...  5/20/21  \n",
       "7        Bright light in the sky vanishes in seconds  5/20/21  \n",
       "8  This has been going on at my residence for the...  5/20/21  \n",
       "9  White ball traveling at very high speed, obser...  5/20/21  "
      ]
     },
     "execution_count": 20,
     "metadata": {},
     "output_type": "execute_result"
    }
   ],
   "source": [
    "# have an updated table on webpage of the 10 most recent UFO sightings\n",
    "\n",
    "recent_table = pd.read_html(f\"http://www.nuforc.org/webreports/{titles_list[0]}\")\n",
    "recent_df = pd.DataFrame(recent_table[0])\n",
    "ten_most_recent = recent_df.head(10) \n",
    "ten_most_recent"
   ]
  }
 ],
 "metadata": {
  "kernelspec": {
   "display_name": "Python 3",
   "language": "python",
   "name": "python3"
  },
  "language_info": {
   "codemirror_mode": {
    "name": "ipython",
    "version": 3
   },
   "file_extension": ".py",
   "mimetype": "text/x-python",
   "name": "python",
   "nbconvert_exporter": "python",
   "pygments_lexer": "ipython3",
   "version": "3.8.5"
  }
 },
 "nbformat": 4,
 "nbformat_minor": 4
}
