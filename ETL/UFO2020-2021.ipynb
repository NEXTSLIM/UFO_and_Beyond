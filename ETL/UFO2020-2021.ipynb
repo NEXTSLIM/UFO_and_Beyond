{
 "cells": [
  {
   "cell_type": "code",
   "execution_count": 2,
   "metadata": {},
   "outputs": [],
   "source": [
    "from splinter import Browser\n",
    "from bs4 import BeautifulSoup\n",
    "from webdriver_manager.chrome import ChromeDriverManager\n",
    "import pandas as pd\n",
    "import requests"
   ]
  },
  {
   "cell_type": "code",
   "execution_count": 3,
   "metadata": {},
   "outputs": [
    {
     "name": "stderr",
     "output_type": "stream",
     "text": [
      "\n",
      "\n",
      "====== WebDriver manager ======\n",
      "Current google-chrome version is 90.0.4430\n",
      "Get LATEST driver version for 90.0.4430\n",
      "Get LATEST driver version for 90.0.4430\n",
      "Trying to download new driver from https://chromedriver.storage.googleapis.com/90.0.4430.24/chromedriver_win32.zip\n",
      "Driver has been saved in cache [C:\\Users\\clinn\\.wdm\\drivers\\chromedriver\\win32\\90.0.4430.24]\n"
     ]
    }
   ],
   "source": [
    "executable_path = {'executable_path': ChromeDriverManager().install()}\n",
    "browser = Browser('chrome', **executable_path, headless=False)"
   ]
  },
  {
   "cell_type": "code",
   "execution_count": 4,
   "metadata": {},
   "outputs": [],
   "source": [
    "url = \"http://www.nuforc.org/webreports/ndxevent.html\"\n",
    "browser.visit(url)"
   ]
  },
  {
   "cell_type": "code",
   "execution_count": 5,
   "metadata": {},
   "outputs": [
    {
     "name": "stdout",
     "output_type": "stream",
     "text": [
      "<Response [200]>\n"
     ]
    }
   ],
   "source": [
    "response = requests.get(url)\n",
    "print(response)"
   ]
  },
  {
   "cell_type": "code",
   "execution_count": 6,
   "metadata": {},
   "outputs": [],
   "source": [
    "soup = BeautifulSoup(response.text, 'html.parser')"
   ]
  },
  {
   "cell_type": "code",
   "execution_count": 7,
   "metadata": {},
   "outputs": [
    {
     "name": "stdout",
     "output_type": "stream",
     "text": [
      "['ndxe202105.html', 'ndxe202104.html', 'ndxe202103.html', 'ndxe202102.html', 'ndxe202101.html', 'ndxe202012.html', 'ndxe202011.html', 'ndxe202010.html', 'ndxe202009.html', 'ndxe202008.html', 'ndxe202007.html', 'ndxe202006.html', 'ndxe202005.html', 'ndxe202004.html', 'ndxe202003.html', 'ndxe202002.html', 'ndxe202001.html']\n"
     ]
    }
   ],
   "source": [
    "links = [i.get(\"href\") for i in soup.find_all('a')]\n",
    "titles_list = links[1:18] # all link titles\n",
    "print(titles_list)"
   ]
  },
  {
   "cell_type": "code",
   "execution_count": 8,
   "metadata": {},
   "outputs": [
    {
     "data": {
      "text/plain": [
       "list"
      ]
     },
     "execution_count": 8,
     "metadata": {},
     "output_type": "execute_result"
    }
   ],
   "source": [
    "tables=pd.read_html('http://www.nuforc.org/webreports/ndxe202105.html')\n",
    "type(tables)"
   ]
  },
  {
   "cell_type": "code",
   "execution_count": 9,
   "metadata": {},
   "outputs": [
    {
     "name": "stdout",
     "output_type": "stream",
     "text": [
      "<class 'list'>\n",
      "<class 'list'>\n",
      "<class 'list'>\n",
      "<class 'list'>\n",
      "<class 'list'>\n",
      "<class 'list'>\n",
      "<class 'list'>\n",
      "<class 'list'>\n",
      "<class 'list'>\n",
      "<class 'list'>\n",
      "<class 'list'>\n",
      "<class 'list'>\n",
      "<class 'list'>\n",
      "<class 'list'>\n",
      "<class 'list'>\n",
      "<class 'list'>\n",
      "<class 'list'>\n"
     ]
    }
   ],
   "source": [
    "temp_df = []\n",
    "ufo_df = []\n",
    "i = 0\n",
    "for i in range(len(titles_list)):\n",
    "    tables = pd.read_html(f\"http://www.nuforc.org/webreports/{titles_list[i]}\")\n",
    "    print(type(tables))\n",
    "    temp_df = tables[0] \n",
    "    df = pd.DataFrame(data = temp_df)\n",
    "\n",
    "    ufo_df.append(df)\n",
    "\n",
    "ufo_df = pd.concat(ufo_df)"
   ]
  },
  {
   "cell_type": "code",
   "execution_count": 10,
   "metadata": {},
   "outputs": [
    {
     "data": {
      "text/plain": [
       "8483"
      ]
     },
     "execution_count": 10,
     "metadata": {},
     "output_type": "execute_result"
    }
   ],
   "source": [
    "len(ufo_df)"
   ]
  },
  {
   "cell_type": "code",
   "execution_count": 11,
   "metadata": {},
   "outputs": [
    {
     "data": {
      "text/html": [
       "<div>\n",
       "<style scoped>\n",
       "    .dataframe tbody tr th:only-of-type {\n",
       "        vertical-align: middle;\n",
       "    }\n",
       "\n",
       "    .dataframe tbody tr th {\n",
       "        vertical-align: top;\n",
       "    }\n",
       "\n",
       "    .dataframe thead th {\n",
       "        text-align: right;\n",
       "    }\n",
       "</style>\n",
       "<table border=\"1\" class=\"dataframe\">\n",
       "  <thead>\n",
       "    <tr style=\"text-align: right;\">\n",
       "      <th></th>\n",
       "      <th>Date / Time</th>\n",
       "      <th>City</th>\n",
       "      <th>State</th>\n",
       "      <th>Shape</th>\n",
       "      <th>Duration</th>\n",
       "      <th>Summary</th>\n",
       "      <th>Posted</th>\n",
       "    </tr>\n",
       "  </thead>\n",
       "  <tbody>\n",
       "    <tr>\n",
       "      <th>0</th>\n",
       "      <td>5/19/21 20:15</td>\n",
       "      <td>Atlanta</td>\n",
       "      <td>GA</td>\n",
       "      <td>Sphere</td>\n",
       "      <td>10 min</td>\n",
       "      <td>Two black UFO over Atlanta one coming close to...</td>\n",
       "      <td>5/20/21</td>\n",
       "    </tr>\n",
       "    <tr>\n",
       "      <th>1</th>\n",
       "      <td>5/19/21 17:25</td>\n",
       "      <td>Glens Falls</td>\n",
       "      <td>NY</td>\n",
       "      <td>Triangle</td>\n",
       "      <td>20 minutes</td>\n",
       "      <td>Triangular object over the Hudson River</td>\n",
       "      <td>5/20/21</td>\n",
       "    </tr>\n",
       "    <tr>\n",
       "      <th>2</th>\n",
       "      <td>5/19/21 14:30</td>\n",
       "      <td>North Haledon</td>\n",
       "      <td>NJ</td>\n",
       "      <td>Other</td>\n",
       "      <td>20 mins</td>\n",
       "      <td>I’m no stranger to flying things but yesterday...</td>\n",
       "      <td>5/20/21</td>\n",
       "    </tr>\n",
       "    <tr>\n",
       "      <th>3</th>\n",
       "      <td>5/19/21 10:50</td>\n",
       "      <td>Clarksburg</td>\n",
       "      <td>MD</td>\n",
       "      <td>Triangle</td>\n",
       "      <td>1 min</td>\n",
       "      <td>Triangle ufo</td>\n",
       "      <td>5/20/21</td>\n",
       "    </tr>\n",
       "    <tr>\n",
       "      <th>4</th>\n",
       "      <td>5/19/21 01:00</td>\n",
       "      <td>Sharon Connecticut</td>\n",
       "      <td>CT</td>\n",
       "      <td>Light</td>\n",
       "      <td>1 hour</td>\n",
       "      <td>Strange star over northwestern connecticut</td>\n",
       "      <td>5/20/21</td>\n",
       "    </tr>\n",
       "  </tbody>\n",
       "</table>\n",
       "</div>"
      ],
      "text/plain": [
       "     Date / Time                City State     Shape    Duration  \\\n",
       "0  5/19/21 20:15             Atlanta    GA    Sphere      10 min   \n",
       "1  5/19/21 17:25         Glens Falls    NY  Triangle  20 minutes   \n",
       "2  5/19/21 14:30       North Haledon    NJ     Other     20 mins   \n",
       "3  5/19/21 10:50          Clarksburg    MD  Triangle       1 min   \n",
       "4  5/19/21 01:00  Sharon Connecticut    CT     Light      1 hour   \n",
       "\n",
       "                                             Summary   Posted  \n",
       "0  Two black UFO over Atlanta one coming close to...  5/20/21  \n",
       "1            Triangular object over the Hudson River  5/20/21  \n",
       "2  I’m no stranger to flying things but yesterday...  5/20/21  \n",
       "3                                       Triangle ufo  5/20/21  \n",
       "4         Strange star over northwestern connecticut  5/20/21  "
      ]
     },
     "execution_count": 11,
     "metadata": {},
     "output_type": "execute_result"
    }
   ],
   "source": [
    "ufo_df.head()"
   ]
  },
  {
   "cell_type": "code",
   "execution_count": 12,
   "metadata": {},
   "outputs": [],
   "source": [
    "ufo_df.to_csv (r'ETL/DATA\\ufo2020.csv', index = False, header=True)"
   ]
  },
  {
   "cell_type": "code",
   "execution_count": null,
   "metadata": {},
   "outputs": [],
   "source": []
  }
 ],
 "metadata": {
  "kernelspec": {
   "display_name": "Python 3",
   "language": "python",
   "name": "python3"
  },
  "language_info": {
   "codemirror_mode": {
    "name": "ipython",
    "version": 3
   },
   "file_extension": ".py",
   "mimetype": "text/x-python",
   "name": "python",
   "nbconvert_exporter": "python",
   "pygments_lexer": "ipython3",
   "version": "3.8.5"
  }
 },
 "nbformat": 4,
 "nbformat_minor": 4
}
